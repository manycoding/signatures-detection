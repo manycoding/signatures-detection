{
  "nbformat": 4,
  "nbformat_minor": 0,
  "metadata": {
    "colab": {
      "name": "Signatures - mmdetection.ipynb",
      "provenance": [],
      "collapsed_sections": [],
      "toc_visible": true,
      "authorship_tag": "ABX9TyOOhG1lv4pCZoNQhHHieNz6",
      "include_colab_link": true
    },
    "kernelspec": {
      "name": "python3",
      "display_name": "Python 3"
    },
    "accelerator": "GPU"
  },
  "cells": [
    {
      "cell_type": "markdown",
      "metadata": {
        "id": "view-in-github",
        "colab_type": "text"
      },
      "source": [
        "<a href=\"https://colab.research.google.com/github/manycoding/signatures-detection/blob/master/Signatures_mmdetection.ipynb\" target=\"_parent\"><img src=\"https://colab.research.google.com/assets/colab-badge.svg\" alt=\"Open In Colab\"/></a>"
      ]
    },
    {
      "cell_type": "code",
      "metadata": {
        "id": "w3ZURtHIoSv9",
        "colab_type": "code",
        "colab": {}
      },
      "source": [
        "# %cd mmdetection"
      ],
      "execution_count": 0,
      "outputs": []
    },
    {
      "cell_type": "code",
      "metadata": {
        "id": "0QMHwdz7BVUu",
        "colab_type": "code",
        "cellView": "form",
        "colab": {
          "base_uri": "https://localhost:8080/",
          "height": 208
        },
        "outputId": "08268cc6-65ca-4fe5-9e24-de3ab4681366"
      },
      "source": [
        "#@title\n",
        "!git clone https://github.com/open-mmlab/mmdetection.git\n",
        "%cd mmdetection\n",
        "!pip install -q -r requirements/build.txt\n",
        "!pip install -q \"git+https://github.com/cocodataset/cocoapi.git#subdirectory=PythonAPI\"\n",
        "!pip install -q -e ."
      ],
      "execution_count": 2,
      "outputs": [
        {
          "output_type": "stream",
          "text": [
            "Cloning into 'mmdetection'...\n",
            "remote: Enumerating objects: 1, done.\u001b[K\n",
            "remote: Counting objects: 100% (1/1), done.\u001b[K\n",
            "remote: Total 6616 (delta 0), reused 0 (delta 0), pack-reused 6615\u001b[K\n",
            "Receiving objects: 100% (6616/6616), 5.46 MiB | 13.75 MiB/s, done.\n",
            "Resolving deltas: 100% (4525/4525), done.\n",
            "/content/mmdetection\n",
            "  Building wheel for pycocotools (setup.py) ... \u001b[?25l\u001b[?25hdone\n",
            "\u001b[K     |████████████████████████████████| 51kB 2.6MB/s \n",
            "\u001b[?25h  Building wheel for mmcv (setup.py) ... \u001b[?25l\u001b[?25hdone\n",
            "  Building wheel for terminaltables (setup.py) ... \u001b[?25l\u001b[?25hdone\n"
          ],
          "name": "stdout"
        }
      ]
    },
    {
      "cell_type": "code",
      "metadata": {
        "id": "id7sfqPNBYeo",
        "colab_type": "code",
        "cellView": "both",
        "outputId": "07615d9d-695b-42b8-b61d-ef1e429ec3b1",
        "colab": {
          "base_uri": "https://localhost:8080/",
          "height": 34
        }
      },
      "source": [
        "gpu = !nvidia-smi\n",
        "gpu = 0.5 if \"Tesla P4\" in gpu[7] else 1\n",
        "gpu"
      ],
      "execution_count": 4,
      "outputs": [
        {
          "output_type": "execute_result",
          "data": {
            "text/plain": [
              "1"
            ]
          },
          "metadata": {
            "tags": []
          },
          "execution_count": 4
        }
      ]
    },
    {
      "cell_type": "code",
      "metadata": {
        "id": "epBJAap7BvVf",
        "colab_type": "code",
        "outputId": "bf124df7-aa78-4c29-9b0a-3ff69045a695",
        "colab": {
          "base_uri": "https://localhost:8080/",
          "height": 124
        }
      },
      "source": [
        "from google.colab import drive\n",
        "drive.mount('/content/gdrive', force_remount=True)"
      ],
      "execution_count": 5,
      "outputs": [
        {
          "output_type": "stream",
          "text": [
            "Go to this URL in a browser: https://accounts.google.com/o/oauth2/auth?client_id=947318989803-6bn6qk8qdgf4n4g3pfee6491hc0brc4i.apps.googleusercontent.com&redirect_uri=urn%3aietf%3awg%3aoauth%3a2.0%3aoob&response_type=code&scope=email%20https%3a%2f%2fwww.googleapis.com%2fauth%2fdocs.test%20https%3a%2f%2fwww.googleapis.com%2fauth%2fdrive%20https%3a%2f%2fwww.googleapis.com%2fauth%2fdrive.photos.readonly%20https%3a%2f%2fwww.googleapis.com%2fauth%2fpeopleapi.readonly\n",
            "\n",
            "Enter your authorization code:\n",
            "··········\n",
            "Mounted at /content/gdrive\n"
          ],
          "name": "stdout"
        }
      ]
    },
    {
      "cell_type": "code",
      "metadata": {
        "id": "7Zm4DNTICKgY",
        "colab_type": "code",
        "colab": {}
      },
      "source": [
        "import gc\n",
        "import random\n",
        "import os\n",
        "import numpy as np\n",
        "import pandas as pd\n",
        "import torch\n",
        "import json\n",
        "from PIL import Image\n",
        "from functools import partial\n",
        "from pathlib import Path\n",
        "\n",
        "root_dir = Path(\"/content/gdrive/My Drive/\")\n",
        "home = root_dir/\"fastai/Signature/\"\n",
        "home.mkdir(parents=True, exist_ok=True)\n",
        "data = home/\"dataset\""
      ],
      "execution_count": 0,
      "outputs": []
    },
    {
      "cell_type": "code",
      "metadata": {
        "id": "bEmFa0A3ChXy",
        "colab_type": "code",
        "colab": {}
      },
      "source": [
        "def seed_everything(seed):\n",
        "    random.seed(seed)\n",
        "    os.environ['PYTHONHASHSEED'] = str(seed)\n",
        "    np.random.seed(seed)\n",
        "    torch.manual_seed(seed)\n",
        "    torch.cuda.manual_seed_all(seed)\n",
        "    torch.backends.cudnn.deterministic = True\n",
        "    torch.backends.cudnn.benchmark = False\n",
        "\n",
        "seed_everything(42)"
      ],
      "execution_count": 0,
      "outputs": []
    },
    {
      "cell_type": "markdown",
      "metadata": {
        "id": "s1uulO0VD3dr",
        "colab_type": "text"
      },
      "source": [
        "# Data"
      ]
    },
    {
      "cell_type": "code",
      "metadata": {
        "id": "YRwsat71D27t",
        "colab_type": "code",
        "colab": {}
      },
      "source": [
        "raw_labels = pd.read_csv(data/\"image_object_detection_1.csv\",\n",
        "                         names=\"set,image_path,label,x1,y1,x2,y1_,x2_,y2,x1_,y2_\".split(\",\"),\n",
        "                         usecols=[0,1,2,8,3,4,5])[[\"set\", \"image_path\", \"label\", \"y2\", \"x1\", \"y1\", \"x2\"]]\n",
        "raw_labels[\"image_path\"] = raw_labels[\"image_path\"].apply(lambda x: x.split(\"/\")[-1])"
      ],
      "execution_count": 0,
      "outputs": []
    },
    {
      "cell_type": "code",
      "metadata": {
        "id": "p54crTm7D-hw",
        "colab_type": "code",
        "colab": {}
      },
      "source": [
        "def process(f, labels):\n",
        "    img = Image.open(f)\n",
        "    labels.loc[labels[\"image_path\"] == f.name, [\"width\"]] = img.size[0]\n",
        "    labels.loc[labels[\"image_path\"] == f.name, [\"height\"]] = img.size[1]\n",
        "    labels.loc[labels[\"image_path\"] == f.name, [\"x1\", \"x2\"]] = labels.loc[labels[\"image_path\"] == f.name, [\"x1\", \"x2\"]] * img.size[0]\n",
        "    labels.loc[labels[\"image_path\"] == f.name, [\"y2\", \"y1\"]] = labels.loc[labels[\"image_path\"] == f.name, [\"y2\", \"y1\"]] * img.size[1]\n",
        "\n",
        "raw_labels[\"width\"] = 0\n",
        "raw_labels[\"height\"] = 0\n",
        "\n",
        "for f in raw_labels.image_path.unique():\n",
        "    process(Path(data/\"train\"/f), raw_labels)"
      ],
      "execution_count": 0,
      "outputs": []
    },
    {
      "cell_type": "code",
      "metadata": {
        "id": "C9MsdsymD-oG",
        "colab_type": "code",
        "colab": {}
      },
      "source": [
        "raw_labels[\"bboxes\"] = raw_labels[[\"x1\", \"y1\", \"x2\", \"y2\"]].apply(lambda x: [x[0], x[1], x[2], x[3]], axis=1)"
      ],
      "execution_count": 0,
      "outputs": []
    },
    {
      "cell_type": "code",
      "metadata": {
        "id": "i1YvTaXKD-ld",
        "colab_type": "code",
        "colab": {}
      },
      "source": [
        "labels_df = pd.DataFrame()\n",
        "\n",
        "for n, g in raw_labels.groupby(\"image_path\"):\n",
        "    labels_df = labels_df.append([[n, g[\"bboxes\"].to_list(), g[\"label\"].to_list(),\n",
        "                                   g[\"width\"].to_list()[0], g[\"height\"].to_list()[0],\n",
        "                                   g[\"set\"].to_list()[0]]], ignore_index=True)\n",
        "\n",
        "labels_df = labels_df.rename(columns={0: \"image\", 1: \"bboxes\", 2: \"labels\", 3: \"width\", 4: \"height\",\n",
        "                                      5: \"set\"})"
      ],
      "execution_count": 0,
      "outputs": []
    },
    {
      "cell_type": "code",
      "metadata": {
        "id": "86mnYHcMD-fW",
        "colab_type": "code",
        "outputId": "aad3ea4a-be58-45a6-e2dd-c761ed719f6d",
        "colab": {
          "base_uri": "https://localhost:8080/",
          "height": 206
        }
      },
      "source": [
        "labels_df.head()"
      ],
      "execution_count": 12,
      "outputs": [
        {
          "output_type": "execute_result",
          "data": {
            "text/html": [
              "<div>\n",
              "<style scoped>\n",
              "    .dataframe tbody tr th:only-of-type {\n",
              "        vertical-align: middle;\n",
              "    }\n",
              "\n",
              "    .dataframe tbody tr th {\n",
              "        vertical-align: top;\n",
              "    }\n",
              "\n",
              "    .dataframe thead th {\n",
              "        text-align: right;\n",
              "    }\n",
              "</style>\n",
              "<table border=\"1\" class=\"dataframe\">\n",
              "  <thead>\n",
              "    <tr style=\"text-align: right;\">\n",
              "      <th></th>\n",
              "      <th>image</th>\n",
              "      <th>bboxes</th>\n",
              "      <th>labels</th>\n",
              "      <th>width</th>\n",
              "      <th>height</th>\n",
              "      <th>set</th>\n",
              "    </tr>\n",
              "  </thead>\n",
              "  <tbody>\n",
              "    <tr>\n",
              "      <th>0</th>\n",
              "      <td>000001-2020-02-14T16:50:17.554Z.jpg</td>\n",
              "      <td>[[25.416036, 294.21112000000005, 190.62027, 33...</td>\n",
              "      <td>[sign]</td>\n",
              "      <td>600</td>\n",
              "      <td>400</td>\n",
              "      <td>TRAIN</td>\n",
              "    </tr>\n",
              "    <tr>\n",
              "      <th>1</th>\n",
              "      <td>000002-2020-02-14T16:50:17.555Z.jpg</td>\n",
              "      <td>[[31.337625956000004, 345.40296125000003, 242....</td>\n",
              "      <td>[sign]</td>\n",
              "      <td>674</td>\n",
              "      <td>425</td>\n",
              "      <td>TRAIN</td>\n",
              "    </tr>\n",
              "    <tr>\n",
              "      <th>2</th>\n",
              "      <td>000004-2020-02-14T16:50:17.555Z.jpg</td>\n",
              "      <td>[[46.84218076, 398.2769637, 265.8152692, 454.1...</td>\n",
              "      <td>[sign]</td>\n",
              "      <td>776</td>\n",
              "      <td>497</td>\n",
              "      <td>TRAIN</td>\n",
              "    </tr>\n",
              "    <tr>\n",
              "      <th>3</th>\n",
              "      <td>000005-2020-02-14T16:50:17.555Z.jpg</td>\n",
              "      <td>[[289.838, 375.25879799999996, 604.41828, 447....</td>\n",
              "      <td>[sign]</td>\n",
              "      <td>800</td>\n",
              "      <td>519</td>\n",
              "      <td>TRAIN</td>\n",
              "    </tr>\n",
              "    <tr>\n",
              "      <th>4</th>\n",
              "      <td>000006-2020-02-14T16:50:17.555Z.jpg</td>\n",
              "      <td>[[577.06458, 572.474454, 690.841482, 608.16117...</td>\n",
              "      <td>[sign, sign]</td>\n",
              "      <td>1140</td>\n",
              "      <td>655</td>\n",
              "      <td>TRAIN</td>\n",
              "    </tr>\n",
              "  </tbody>\n",
              "</table>\n",
              "</div>"
            ],
            "text/plain": [
              "                                 image  ...    set\n",
              "0  000001-2020-02-14T16:50:17.554Z.jpg  ...  TRAIN\n",
              "1  000002-2020-02-14T16:50:17.555Z.jpg  ...  TRAIN\n",
              "2  000004-2020-02-14T16:50:17.555Z.jpg  ...  TRAIN\n",
              "3  000005-2020-02-14T16:50:17.555Z.jpg  ...  TRAIN\n",
              "4  000006-2020-02-14T16:50:17.555Z.jpg  ...  TRAIN\n",
              "\n",
              "[5 rows x 6 columns]"
            ]
          },
          "metadata": {
            "tags": []
          },
          "execution_count": 12
        }
      ]
    },
    {
      "cell_type": "code",
      "metadata": {
        "id": "wzCBI-rUO4Ol",
        "colab_type": "code",
        "colab": {}
      },
      "source": [
        "!mkdir -p data/signatures/\n",
        "!ln -s \"{data}/train\" data/signatures/\n",
        "!ln -s \"{data}/test\" data/signatures/"
      ],
      "execution_count": 0,
      "outputs": []
    },
    {
      "cell_type": "code",
      "metadata": {
        "id": "ly_Y3oLzD-bd",
        "colab_type": "code",
        "colab": {}
      },
      "source": [
        "def create_labels(df, valid=False):\n",
        "    labels_l = np.array([])\n",
        "    if valid:\n",
        "        _df = df[df.set != \"TRAIN\"]\n",
        "    else:\n",
        "        _df = df[df.set == \"TRAIN\"]\n",
        "    for i, r in _df.iterrows():\n",
        "        l = {\"filename\": r[\"image\"],\n",
        "            \"width\": r[\"width\"],\n",
        "            \"height\": r[\"height\"],\n",
        "            \"ann\": {\n",
        "                \"bboxes\": np.array(r[\"bboxes\"], dtype=np.float32),\n",
        "                # \"labels\": r[\"labels\"]\n",
        "                \"labels\": np.array([0] * len(r[\"labels\"]), dtype=np.int64)\n",
        "            }}\n",
        "        labels_l = np.append(labels_l, l)\n",
        "    return labels_l"
      ],
      "execution_count": 0,
      "outputs": []
    },
    {
      "cell_type": "code",
      "metadata": {
        "id": "_vKbjudIzmQL",
        "colab_type": "code",
        "colab": {}
      },
      "source": [
        "import pickle"
      ],
      "execution_count": 0,
      "outputs": []
    },
    {
      "cell_type": "code",
      "metadata": {
        "id": "spJPAKVcAx3E",
        "colab_type": "code",
        "outputId": "cdfb1056-3cec-41d3-e4d9-b3d5f792359b",
        "colab": {
          "base_uri": "https://localhost:8080/",
          "height": 104
        }
      },
      "source": [
        "create_labels(labels_df)[0]"
      ],
      "execution_count": 49,
      "outputs": [
        {
          "output_type": "execute_result",
          "data": {
            "text/plain": [
              "{'ann': {'bboxes': array([[ 25.416037, 294.21112 , 190.62027 , 336.8899  ]], dtype=float32),\n",
              "  'labels': array([0])},\n",
              " 'filename': '000001-2020-02-14T16:50:17.554Z.jpg',\n",
              " 'height': 400,\n",
              " 'width': 600}"
            ]
          },
          "metadata": {
            "tags": []
          },
          "execution_count": 49
        }
      ]
    },
    {
      "cell_type": "code",
      "metadata": {
        "id": "YU9EYQWjSrtB",
        "colab_type": "code",
        "colab": {}
      },
      "source": [
        "with open(\"data/signatures/train_labels.pkl\", \"wb\") as f:\n",
        "    pickle.dump(create_labels(labels_df), f)\n",
        "\n",
        "with open(\"data/signatures/valid_labels.pkl\", \"wb\") as f:\n",
        "    pickle.dump(create_labels(labels_df, valid=True), f)"
      ],
      "execution_count": 0,
      "outputs": []
    },
    {
      "cell_type": "code",
      "metadata": {
        "id": "PAQDfxzRhmHx",
        "colab_type": "code",
        "colab": {}
      },
      "source": [
        "!rm -rf /content/mmdetection/work_dirs/retinanet_r50_fpn_fp16_1x"
      ],
      "execution_count": 0,
      "outputs": []
    },
    {
      "cell_type": "code",
      "metadata": {
        "id": "5OULBVTFDJAR",
        "colab_type": "code",
        "colab": {}
      },
      "source": [
        "# from mmdet.datasets.registry import DATASETS\n",
        "# from mmdet.datasets.custom import CustomDataset\n",
        "\n",
        "# @DATASETS.register_module\n",
        "# class SignDataset(CustomDataset):\n",
        "#     CLASSES = (\"sign\")"
      ],
      "execution_count": 0,
      "outputs": []
    },
    {
      "cell_type": "code",
      "metadata": {
        "id": "tl9IsD74M2N9",
        "colab_type": "code",
        "outputId": "58479eee-3a97-4298-90d8-b1ffe41aa44f",
        "colab": {
          "base_uri": "https://localhost:8080/",
          "height": 1000
        }
      },
      "source": [
        "!python tools/train.py \"{home}/retinanet_fp16.py\""
      ],
      "execution_count": 58,
      "outputs": [
        {
          "output_type": "stream",
          "text": [
            "2020-02-27 15:21:13,600 - mmdet - INFO - Environment info:\n",
            "------------------------------------------------------------\n",
            "sys.platform: linux\n",
            "Python: 3.6.9 (default, Nov  7 2019, 10:44:02) [GCC 8.3.0]\n",
            "CUDA available: True\n",
            "CUDA_HOME: /usr/local/cuda\n",
            "NVCC: Cuda compilation tools, release 10.0, V10.0.130\n",
            "GPU 0: Tesla T4\n",
            "GCC: gcc (Ubuntu 7.4.0-1ubuntu1~18.04.1) 7.4.0\n",
            "PyTorch: 1.4.0\n",
            "PyTorch compiling details: PyTorch built with:\n",
            "  - GCC 7.3\n",
            "  - Intel(R) Math Kernel Library Version 2019.0.4 Product Build 20190411 for Intel(R) 64 architecture applications\n",
            "  - Intel(R) MKL-DNN v0.21.1 (Git Hash 7d2fd500bc78936d1d648ca713b901012f470dbc)\n",
            "  - OpenMP 201511 (a.k.a. OpenMP 4.5)\n",
            "  - NNPACK is enabled\n",
            "  - CUDA Runtime 10.1\n",
            "  - NVCC architecture flags: -gencode;arch=compute_37,code=sm_37;-gencode;arch=compute_50,code=sm_50;-gencode;arch=compute_60,code=sm_60;-gencode;arch=compute_61,code=sm_61;-gencode;arch=compute_70,code=sm_70;-gencode;arch=compute_75,code=sm_75;-gencode;arch=compute_37,code=compute_37\n",
            "  - CuDNN 7.6.3\n",
            "  - Magma 2.5.1\n",
            "  - Build settings: BLAS=MKL, BUILD_NAMEDTENSOR=OFF, BUILD_TYPE=Release, CXX_FLAGS= -Wno-deprecated -fvisibility-inlines-hidden -fopenmp -DUSE_FBGEMM -DUSE_QNNPACK -DUSE_PYTORCH_QNNPACK -O2 -fPIC -Wno-narrowing -Wall -Wextra -Wno-missing-field-initializers -Wno-type-limits -Wno-array-bounds -Wno-unknown-pragmas -Wno-sign-compare -Wno-unused-parameter -Wno-unused-variable -Wno-unused-function -Wno-unused-result -Wno-strict-overflow -Wno-strict-aliasing -Wno-error=deprecated-declarations -Wno-stringop-overflow -Wno-error=pedantic -Wno-error=redundant-decls -Wno-error=old-style-cast -fdiagnostics-color=always -faligned-new -Wno-unused-but-set-variable -Wno-maybe-uninitialized -fno-math-errno -fno-trapping-math -Wno-stringop-overflow, DISABLE_NUMA=1, PERF_WITH_AVX=1, PERF_WITH_AVX2=1, PERF_WITH_AVX512=1, USE_CUDA=ON, USE_EXCEPTION_PTR=1, USE_GFLAGS=OFF, USE_GLOG=OFF, USE_MKL=ON, USE_MKLDNN=ON, USE_MPI=OFF, USE_NCCL=ON, USE_NNPACK=ON, USE_OPENMP=ON, USE_STATIC_DISPATCH=OFF, \n",
            "\n",
            "TorchVision: 0.5.0\n",
            "OpenCV: 4.1.2\n",
            "MMCV: 0.3.2\n",
            "MMDetection: 1.1.0+bdfa60d\n",
            "MMDetection Compiler: GCC 7.4\n",
            "MMDetection CUDA Compiler: 10.0\n",
            "------------------------------------------------------------\n",
            "\n",
            "2020-02-27 15:21:13,600 - mmdet - INFO - Distributed training: False\n",
            "2020-02-27 15:21:13,600 - mmdet - INFO - Config:\n",
            "# fp16 settings\n",
            "fp16 = dict(loss_scale=512.)\n",
            "\n",
            "# model settings\n",
            "model = dict(\n",
            "    type='RetinaNet',\n",
            "    pretrained='torchvision://resnet50',\n",
            "    backbone=dict(\n",
            "        type='ResNet',\n",
            "        depth=50,\n",
            "        num_stages=4,\n",
            "        out_indices=(0, 1, 2, 3),\n",
            "        frozen_stages=1,\n",
            "        style='pytorch'),\n",
            "    neck=dict(\n",
            "        type='FPN',\n",
            "        in_channels=[256, 512, 1024, 2048],\n",
            "        out_channels=256,\n",
            "        start_level=1,\n",
            "        add_extra_convs=True,\n",
            "        num_outs=5),\n",
            "    bbox_head=dict(\n",
            "        type='RetinaHead',\n",
            "        num_classes=2,\n",
            "        in_channels=256,\n",
            "        stacked_convs=4,\n",
            "        feat_channels=256,\n",
            "        octave_base_scale=4,\n",
            "        scales_per_octave=3,\n",
            "        # anchor_ratios=[1.25, 1.5, 2],\n",
            "        anchor_ratios=[0.5, 1, 2],\n",
            "        anchor_strides=[8, 16, 32, 64, 128],\n",
            "        target_means=[.0, .0, .0, .0],\n",
            "        target_stds=[1.0, 1.0, 1.0, 1.0],\n",
            "        loss_cls=dict(\n",
            "            type='FocalLoss',\n",
            "            use_sigmoid=True,\n",
            "            gamma=2.0,\n",
            "            alpha=0.25,\n",
            "            loss_weight=1.0),\n",
            "        loss_bbox=dict(type='SmoothL1Loss', beta=0.11, loss_weight=1.0)))\n",
            "# training and testing settings\n",
            "train_cfg = dict(\n",
            "    assigner=dict(\n",
            "        type='MaxIoUAssigner',\n",
            "        pos_iou_thr=0.5,\n",
            "        neg_iou_thr=0.4,\n",
            "        min_pos_iou=0,\n",
            "        ignore_iof_thr=-1),\n",
            "    allowed_border=-1,\n",
            "    pos_weight=-1,\n",
            "    debug=True)\n",
            "test_cfg = dict(\n",
            "    nms_pre=1000,\n",
            "    min_bbox_size=0,\n",
            "    score_thr=0.05,\n",
            "    nms=dict(type='nms', iou_thr=0.5),\n",
            "    max_per_img=100)\n",
            "# dataset settings\n",
            "dataset_type = 'SignDataset'\n",
            "data_root = 'data/signatures/'\n",
            "img_norm_cfg = dict(\n",
            "    mean=[123.675, 116.28, 103.53], std=[58.395, 57.12, 57.375], to_rgb=True)\n",
            "train_pipeline = [\n",
            "    dict(type='LoadImageFromFile'),\n",
            "    dict(type='LoadAnnotations', with_bbox=True),\n",
            "    dict(type='Resize', img_scale=(1333, 800), keep_ratio=True),\n",
            "    dict(type='RandomFlip', flip_ratio=0.5),\n",
            "    dict(type='Normalize', **img_norm_cfg),\n",
            "    dict(type='Pad', size_divisor=32),\n",
            "    dict(type='DefaultFormatBundle'),\n",
            "    dict(type='Collect', keys=['img', 'gt_bboxes', 'gt_labels']),\n",
            "]\n",
            "test_pipeline = [\n",
            "    dict(type='LoadImageFromFile'),\n",
            "    dict(\n",
            "        type='MultiScaleFlipAug',\n",
            "        img_scale=(1333, 800),\n",
            "        flip=False,\n",
            "        transforms=[\n",
            "            dict(type='Resize', keep_ratio=True),\n",
            "            dict(type='RandomFlip'),\n",
            "            dict(type='Normalize', **img_norm_cfg),\n",
            "            dict(type='Pad', size_divisor=32),\n",
            "            dict(type='ImageToTensor', keys=['img']),\n",
            "            dict(type='Collect', keys=['img']),\n",
            "        ])\n",
            "]\n",
            "data = dict(\n",
            "    imgs_per_gpu=8,\n",
            "    workers_per_gpu=8,\n",
            "    train=dict(\n",
            "        type=dataset_type,\n",
            "        ann_file=data_root + 'train_labels.pkl',\n",
            "        img_prefix=data_root + 'train/',\n",
            "        pipeline=train_pipeline),\n",
            "    val=dict(\n",
            "        type=dataset_type,\n",
            "        ann_file=data_root + 'valid_labels.pkl',\n",
            "        img_prefix=data_root + 'train/',\n",
            "        pipeline=test_pipeline),\n",
            "    test=dict(\n",
            "        type=dataset_type,\n",
            "        ann_file=data_root + 'valid_labels.pkl',\n",
            "        img_prefix=data_root + 'train/',\n",
            "        pipeline=test_pipeline),       \n",
            ")\n",
            "evaluation = dict(interval=1, metric='bbox')\n",
            "# optimizer\n",
            "optimizer = dict(type='SGD', lr=0.001, momentum=0.9, weight_decay=0.0001)\n",
            "optimizer_config = dict(grad_clip=dict(max_norm=35, norm_type=2))\n",
            "# learning policy\n",
            "lr_config = dict(\n",
            "    policy='step',\n",
            "    warmup='linear',\n",
            "    warmup_iters=500,\n",
            "    warmup_ratio=1.0 / 3,\n",
            "    step=[8, 11])\n",
            "checkpoint_config = dict(interval=1)\n",
            "# yapf:disable\n",
            "log_config = dict(\n",
            "    interval=50,\n",
            "    hooks=[\n",
            "        dict(type='TextLoggerHook'),\n",
            "        # dict(type='TensorboardLoggerHook')\n",
            "    ])\n",
            "# yapf:enable\n",
            "# runtime settings\n",
            "total_epochs = 12\n",
            "dist_params = dict(backend='nccl')\n",
            "log_level = 'INFO'\n",
            "work_dir = './work_dirs/retinanet_r50_fpn_fp16_1x'\n",
            "load_from = None\n",
            "resume_from = None\n",
            "workflow = [('train', 1)]\n",
            "\n",
            "2020-02-27 15:21:13,961 - mmdet - INFO - load model from: torchvision://resnet50\n",
            "2020-02-27 15:21:14,207 - mmdet - WARNING - The model and loaded state dict do not match exactly\n",
            "\n",
            "unexpected key in source state_dict: fc.weight, fc.bias\n",
            "\n",
            "2020-02-27 15:21:18,372 - mmdet - INFO - Start running, host: root@a7128bf310d9, work_dir: /content/mmdetection/work_dirs/retinanet_r50_fpn_fp16_1x\n",
            "2020-02-27 15:21:18,372 - mmdet - INFO - workflow: [('train', 1)], max: 12 epochs\n"
          ],
          "name": "stdout"
        }
      ]
    },
    {
      "cell_type": "code",
      "metadata": {
        "id": "cnvM8kMB9H8M",
        "colab_type": "code",
        "outputId": "55a62685-5aef-4f1b-8d40-f2a4a0c46e42",
        "colab": {
          "base_uri": "https://localhost:8080/",
          "height": 156
        }
      },
      "source": [
        "!python tools/test.py \"{home}/retinanet_fp16.py\" {checkpoint_file} --eval mAP"
      ],
      "execution_count": 59,
      "outputs": [
        {
          "output_type": "stream",
          "text": [
            "[>>] 14/14, 7.2 task/s, elapsed: 2s, ETA:     0s\n",
            "+-------+-----+------+--------+-------+\n",
            "| class | gts | dets | recall | ap    |\n",
            "+-------+-----+------+--------+-------+\n",
            "| sign  | 0   | 0    | 0.000  | 0.000 |\n",
            "+-------+-----+------+--------+-------+\n",
            "| mAP   |     |      |        | 0.000 |\n",
            "+-------+-----+------+--------+-------+\n"
          ],
          "name": "stdout"
        }
      ]
    },
    {
      "cell_type": "code",
      "metadata": {
        "id": "0B3mJuIRO3Bo",
        "colab_type": "code",
        "outputId": "b521eddf-8496-419c-a3fc-4cbb9ae1a4ac",
        "colab": {
          "base_uri": "https://localhost:8080/",
          "height": 176
        }
      },
      "source": [
        "l = \"/content/mmdetection/work_dirs/retinanet_r50_fpn_fp16_1x/20200227_150859.log.json\"\n",
        "!python tools/analyze_logs.py plot_curve {l} --keys loss_cls loss_reg bbox_mAP"
      ],
      "execution_count": 60,
      "outputs": [
        {
          "output_type": "stream",
          "text": [
            "Traceback (most recent call last):\n",
            "  File \"tools/analyze_logs.py\", line 181, in <module>\n",
            "    main()\n",
            "  File \"tools/analyze_logs.py\", line 175, in main\n",
            "    log_dicts = load_json_logs(json_logs)\n",
            "  File \"tools/analyze_logs.py\", line 154, in load_json_logs\n",
            "    with open(json_log, 'r') as log_file:\n",
            "FileNotFoundError: [Errno 2] No such file or directory: '/content/mmdetection/work_dirs/retinanet_r50_fpn_fp16_1x/20200227_150859.log.json'\n"
          ],
          "name": "stdout"
        }
      ]
    },
    {
      "cell_type": "code",
      "metadata": {
        "id": "9QwIAi4Nmv1B",
        "colab_type": "code",
        "colab": {}
      },
      "source": [
        "# %load_ext autoreload\n",
        "# %autoreload 2"
      ],
      "execution_count": 0,
      "outputs": []
    },
    {
      "cell_type": "code",
      "metadata": {
        "id": "zEd986DBo5e2",
        "colab_type": "code",
        "colab": {}
      },
      "source": [
        "from mmdet.apis import init_detector, inference_detector, show_result\n",
        "import mmcv\n",
        "\n",
        "config_file = '/content/gdrive/My Drive/fastai/Signature/retinanet_fp16.py'\n",
        "checkpoint_file = '/content/mmdetection/work_dirs/retinanet_r50_fpn_fp16_1x/latest.pth'"
      ],
      "execution_count": 0,
      "outputs": []
    },
    {
      "cell_type": "code",
      "metadata": {
        "id": "R49AGzU9iaZi",
        "colab_type": "code",
        "outputId": "e2b798bd-6318-453b-f9a1-b31b3ffcb003",
        "colab": {
          "base_uri": "https://localhost:8080/",
          "height": 312
        }
      },
      "source": [
        "# build the model from a config file and a checkpoint file\n",
        "model = init_detector(config_file, checkpoint_file, device='cuda:0')\n",
        "# test a single image and show the results\n",
        "model.CLASSES = [\"sign\"]\n",
        "for fn in os.listdir(str(data/\"test\")):\n",
        "    img = str(data/f\"test/{fn}\")\n",
        "    # or img = mmcv.imread(img), which will only load it once\n",
        "    result = inference_detector(model, img)\n",
        "    # visualize the results in a new window\n",
        "    display(result)\n",
        "    if len(result[0]) > 0:\n",
        "        show_result(img, result, model.CLASSES)"
      ],
      "execution_count": 61,
      "outputs": [
        {
          "output_type": "display_data",
          "data": {
            "text/plain": [
              "[array([], shape=(0, 5), dtype=float32)]"
            ]
          },
          "metadata": {
            "tags": []
          }
        },
        {
          "output_type": "display_data",
          "data": {
            "text/plain": [
              "[array([], shape=(0, 5), dtype=float32)]"
            ]
          },
          "metadata": {
            "tags": []
          }
        },
        {
          "output_type": "display_data",
          "data": {
            "text/plain": [
              "[array([], shape=(0, 5), dtype=float32)]"
            ]
          },
          "metadata": {
            "tags": []
          }
        },
        {
          "output_type": "display_data",
          "data": {
            "text/plain": [
              "[array([], shape=(0, 5), dtype=float32)]"
            ]
          },
          "metadata": {
            "tags": []
          }
        },
        {
          "output_type": "display_data",
          "data": {
            "text/plain": [
              "[array([], shape=(0, 5), dtype=float32)]"
            ]
          },
          "metadata": {
            "tags": []
          }
        },
        {
          "output_type": "display_data",
          "data": {
            "text/plain": [
              "[array([], shape=(0, 5), dtype=float32)]"
            ]
          },
          "metadata": {
            "tags": []
          }
        },
        {
          "output_type": "display_data",
          "data": {
            "text/plain": [
              "[array([], shape=(0, 5), dtype=float32)]"
            ]
          },
          "metadata": {
            "tags": []
          }
        },
        {
          "output_type": "display_data",
          "data": {
            "text/plain": [
              "[array([], shape=(0, 5), dtype=float32)]"
            ]
          },
          "metadata": {
            "tags": []
          }
        },
        {
          "output_type": "display_data",
          "data": {
            "text/plain": [
              "[array([], shape=(0, 5), dtype=float32)]"
            ]
          },
          "metadata": {
            "tags": []
          }
        },
        {
          "output_type": "display_data",
          "data": {
            "text/plain": [
              "[array([], shape=(0, 5), dtype=float32)]"
            ]
          },
          "metadata": {
            "tags": []
          }
        },
        {
          "output_type": "display_data",
          "data": {
            "text/plain": [
              "[array([], shape=(0, 5), dtype=float32)]"
            ]
          },
          "metadata": {
            "tags": []
          }
        },
        {
          "output_type": "display_data",
          "data": {
            "text/plain": [
              "[array([], shape=(0, 5), dtype=float32)]"
            ]
          },
          "metadata": {
            "tags": []
          }
        },
        {
          "output_type": "display_data",
          "data": {
            "text/plain": [
              "[array([], shape=(0, 5), dtype=float32)]"
            ]
          },
          "metadata": {
            "tags": []
          }
        },
        {
          "output_type": "display_data",
          "data": {
            "text/plain": [
              "[array([], shape=(0, 5), dtype=float32)]"
            ]
          },
          "metadata": {
            "tags": []
          }
        },
        {
          "output_type": "display_data",
          "data": {
            "text/plain": [
              "[array([], shape=(0, 5), dtype=float32)]"
            ]
          },
          "metadata": {
            "tags": []
          }
        },
        {
          "output_type": "display_data",
          "data": {
            "text/plain": [
              "[array([], shape=(0, 5), dtype=float32)]"
            ]
          },
          "metadata": {
            "tags": []
          }
        },
        {
          "output_type": "display_data",
          "data": {
            "text/plain": [
              "[array([], shape=(0, 5), dtype=float32)]"
            ]
          },
          "metadata": {
            "tags": []
          }
        }
      ]
    },
    {
      "cell_type": "code",
      "metadata": {
        "id": "dGyW3DzU_94s",
        "colab_type": "code",
        "colab": {}
      },
      "source": [
        ""
      ],
      "execution_count": 0,
      "outputs": []
    }
  ]
}